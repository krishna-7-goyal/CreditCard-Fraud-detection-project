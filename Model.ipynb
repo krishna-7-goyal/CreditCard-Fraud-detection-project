{
  "nbformat": 4,
  "nbformat_minor": 0,
  "metadata": {
    "colab": {
      "provenance": []
    },
    "kernelspec": {
      "name": "python3",
      "display_name": "Python 3"
    },
    "language_info": {
      "name": "python"
    }
  },
  "cells": [
    {
      "cell_type": "code",
      "execution_count": 1,
      "metadata": {
        "colab": {
          "base_uri": "https://localhost:8080/"
        },
        "id": "I4dI5y6d6Zhp",
        "outputId": "f3ae15b9-a02f-45d8-c50a-9bcaf40a23cc"
      },
      "outputs": [
        {
          "output_type": "stream",
          "name": "stdout",
          "text": [
            "Original fraud count: 866\n",
            "Original legit count: 200922\n",
            "✅ Saved balanced dataset with shape: (9526, 23)\n"
          ]
        }
      ],
      "source": [
        "import pandas as pd\n",
        "\n",
        "# Load the original dataset\n",
        "df = pd.read_csv('/content/fraudTest.csv')\n",
        "\n",
        "# Drop rows where target is missing\n",
        "df = df.dropna(subset=[\"is_fraud\"])\n",
        "\n",
        "# Separate fraud and legit\n",
        "df_fraud = df[df[\"is_fraud\"] == 1]\n",
        "df_legit = df[df[\"is_fraud\"] == 0]\n",
        "\n",
        "print(f\"Original fraud count: {len(df_fraud)}\")\n",
        "print(f\"Original legit count: {len(df_legit)}\")\n",
        "\n",
        "# Undersample legit class (10x fraud count)\n",
        "df_legit_sampled = df_legit.sample(n=len(df_fraud)*10, random_state=42)\n",
        "\n",
        "# Combine\n",
        "df_balanced = pd.concat([df_fraud, df_legit_sampled])\n",
        "df_balanced = df_balanced.sample(frac=1, random_state=42).reset_index(drop=True)\n",
        "\n",
        "# Save balanced dataset\n",
        "df_balanced.to_csv(\"fraud_balanced.csv\", index=False)\n",
        "print(f\"✅ Saved balanced dataset with shape: {df_balanced.shape}\")\n"
      ]
    },
    {
      "cell_type": "code",
      "source": [
        "import pandas as pd\n",
        "from sklearn.model_selection import train_test_split\n",
        "from sklearn.preprocessing import StandardScaler, OneHotEncoder\n",
        "from sklearn.compose import ColumnTransformer\n",
        "from sklearn.pipeline import Pipeline\n",
        "from xgboost import XGBClassifier\n",
        "from sklearn.metrics import classification_report\n",
        "from imblearn.over_sampling import SMOTE\n",
        "import joblib\n",
        "\n",
        "# Load dataset\n",
        "df = pd.read_csv(\"fraud_balanced.csv\")\n",
        "\n",
        "# Extract time features\n",
        "df['trans_date_trans_time'] = pd.to_datetime(df['trans_date_trans_time'])\n",
        "df['hour'] = df['trans_date_trans_time'].dt.hour\n",
        "df['day'] = df['trans_date_trans_time'].dt.day\n",
        "\n",
        "# Select only needed columns\n",
        "features = ['amt', 'gender', 'city_pop', 'category', 'lat', 'long', 'hour', 'day']\n",
        "X = df[features]\n",
        "y = df['is_fraud']\n",
        "\n",
        "# One-hot encode for SMOTE\n",
        "X_encoded = pd.get_dummies(X, columns=['gender', 'category'])\n",
        "\n",
        "# Apply SMOTE to balance fraud and legit\n",
        "smote = SMOTE(random_state=42)\n",
        "X_resampled, y_resampled = smote.fit_resample(X_encoded, y)\n",
        "\n",
        "# Now recreate DataFrame\n",
        "X_bal = pd.DataFrame(X_resampled, columns=X_encoded.columns)\n",
        "y_bal = pd.Series(y_resampled, name='is_fraud')\n",
        "\n",
        "# Split into train-test\n",
        "X_train, X_test, y_train, y_test = train_test_split(X_bal, y_bal, test_size=0.3, random_state=42, stratify=y_bal)\n",
        "\n",
        "# Train model on XGBoost (no need for pipeline now)\n",
        "model = XGBClassifier(use_label_encoder=False, eval_metric='logloss', random_state=42)\n",
        "model.fit(X_train, y_train)\n",
        "\n",
        "# Predict and evaluate\n",
        "y_pred = model.predict(X_test)\n",
        "print(classification_report(y_test, y_pred))\n",
        "\n",
        "# Save model (no preprocessor needed since input is already dummified)\n",
        "joblib.dump(model, \"fraud_model.pkl\")\n",
        "joblib.dump(X_train.columns.tolist(), \"model_features.pkl\")\n",
        "\n",
        "print(\"✅ Model trained and saved successfully!\")\n"
      ],
      "metadata": {
        "colab": {
          "base_uri": "https://localhost:8080/"
        },
        "id": "8tZkEIgD6j6z",
        "outputId": "bb01c43e-8b74-4c49-8062-08de08b10e01"
      },
      "execution_count": 3,
      "outputs": [
        {
          "output_type": "stream",
          "name": "stderr",
          "text": [
            "/usr/local/lib/python3.11/dist-packages/xgboost/core.py:158: UserWarning: [16:08:01] WARNING: /workspace/src/learner.cc:740: \n",
            "Parameters: { \"use_label_encoder\" } are not used.\n",
            "\n",
            "  warnings.warn(smsg, UserWarning)\n"
          ]
        },
        {
          "output_type": "stream",
          "name": "stdout",
          "text": [
            "              precision    recall  f1-score   support\n",
            "\n",
            "         0.0       0.99      0.99      0.99      2598\n",
            "         1.0       0.99      0.99      0.99      2598\n",
            "\n",
            "    accuracy                           0.99      5196\n",
            "   macro avg       0.99      0.99      0.99      5196\n",
            "weighted avg       0.99      0.99      0.99      5196\n",
            "\n",
            "✅ Model trained and saved successfully!\n"
          ]
        }
      ]
    },
    {
      "cell_type": "code",
      "source": [
        "import shap\n",
        "import joblib\n",
        "import pandas as pd\n",
        "import numpy as np\n",
        "import matplotlib.pyplot as plt\n",
        "from collections import defaultdict\n",
        "\n",
        "# Load trained model and feature names\n",
        "model = joblib.load(\"fraud_model.pkl\")\n",
        "feature_names = joblib.load(\"model_features.pkl\")  # list of one-hot column names\n",
        "\n",
        "# Load data\n",
        "df = pd.read_csv(\"fraud_balanced.csv\")\n",
        "df['trans_date_trans_time'] = pd.to_datetime(df['trans_date_trans_time'])\n",
        "df['hour'] = df['trans_date_trans_time'].dt.hour\n",
        "df['day'] = df['trans_date_trans_time'].dt.day\n",
        "\n",
        "# Prepare raw input features\n",
        "features = ['amt', 'gender', 'city_pop', 'category', 'lat', 'long', 'hour', 'day']\n",
        "X_raw = df[features]\n",
        "\n",
        "# One-hot encode raw features like training\n",
        "X_encoded = pd.get_dummies(X_raw)\n",
        "\n",
        "# Align columns with training data\n",
        "X_encoded = X_encoded.reindex(columns=feature_names, fill_value=0)\n",
        "\n",
        "# Explain with SHAP\n",
        "explainer = shap.Explainer(model)\n",
        "shap_values = explainer(X_encoded)\n",
        "\n",
        "# Group SHAP values by original raw feature names\n",
        "group_map = defaultdict(list)\n",
        "for i, col in enumerate(feature_names):\n",
        "    if \"gender_\" in col:\n",
        "        group_map['gender'].append(i)\n",
        "    elif \"category_\" in col:\n",
        "        group_map['category'].append(i)\n",
        "    else:\n",
        "        group_map[col].append(i)\n",
        "\n",
        "# Compute mean absolute SHAP value per feature group\n",
        "feature_scores = {}\n",
        "for base_feat, idxs in group_map.items():\n",
        "    vals = np.abs(shap_values.values[:, idxs])\n",
        "    feature_scores[base_feat] = vals.mean()\n",
        "\n",
        "# Sort and plot\n",
        "sorted_feats = sorted(feature_scores.items(), key=lambda x: x[1], reverse=True)\n",
        "names, scores = zip(*sorted_feats)\n",
        "\n",
        "plt.figure(figsize=(10, 5))\n",
        "plt.barh(names[::-1], scores[::-1], color='orange')\n",
        "plt.title(\"🔍 Overall Impact of Each Raw Feature on Fraud Detection\")\n",
        "plt.xlabel(\"Mean Absolute SHAP Value\")\n",
        "plt.tight_layout()\n",
        "plt.show()\n"
      ],
      "metadata": {
        "colab": {
          "base_uri": "https://localhost:8080/",
          "height": 596
        },
        "id": "Jhs_UIZh-G46",
        "outputId": "17df75de-df27-4d92-cf50-4315ac81fabd"
      },
      "execution_count": 7,
      "outputs": [
        {
          "output_type": "stream",
          "name": "stderr",
          "text": [
            "/tmp/ipython-input-7-3538934186.py:56: UserWarning: Glyph 128269 (\\N{LEFT-POINTING MAGNIFYING GLASS}) missing from font(s) DejaVu Sans.\n",
            "  plt.tight_layout()\n",
            "/usr/local/lib/python3.11/dist-packages/IPython/core/pylabtools.py:151: UserWarning: Glyph 128269 (\\N{LEFT-POINTING MAGNIFYING GLASS}) missing from font(s) DejaVu Sans.\n",
            "  fig.canvas.print_figure(bytes_io, **kw)\n"
          ]
        },
        {
          "output_type": "display_data",
          "data": {
            "text/plain": [
              "<Figure size 1000x500 with 1 Axes>"
            ],
            "image/png": "[encoded data removed]"
          },
          "metadata": {}
        }
      ]
    },
    {
      "cell_type": "code",
      "source": [],
      "metadata": {
        "id": "_WtYuQ6s_krZ"
      },
      "execution_count": null,
      "outputs": []
    }
  ]
}